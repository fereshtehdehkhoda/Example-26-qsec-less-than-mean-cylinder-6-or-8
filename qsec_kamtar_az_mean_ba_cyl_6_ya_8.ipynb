{
  "cells": [
    {
      "cell_type": "markdown",
      "metadata": {
        "id": "view-in-github",
        "colab_type": "text"
      },
      "source": [
        "<a href=\"https://colab.research.google.com/github/fereshtehdehkhoda/Example-26-qsec-less-than-mean-cylinder-6-or-8/blob/main/qsec_kamtar_az_mean_ba_cyl_6_ya_8.ipynb\" target=\"_parent\"><img src=\"https://colab.research.google.com/assets/colab-badge.svg\" alt=\"Open In Colab\"/></a>"
      ]
    },
    {
      "cell_type": "code",
      "execution_count": null,
      "id": "af0a5344-7bc7-4b34-96e2-2927a0a40c72",
      "metadata": {
        "id": "af0a5344-7bc7-4b34-96e2-2927a0a40c72"
      },
      "outputs": [],
      "source": [
        "#چند درصد خودروهای با qsec زیر میانگین،  6 یا 8 سیندر هستند؟"
      ]
    },
    {
      "cell_type": "code",
      "execution_count": null,
      "id": "7467bfcd-6569-45b5-a05a-95752680bf54",
      "metadata": {
        "id": "7467bfcd-6569-45b5-a05a-95752680bf54"
      },
      "outputs": [],
      "source": [
        "import pandas as pd\n",
        "import numpy as np\n",
        "import statistics as stat"
      ]
    },
    {
      "cell_type": "code",
      "execution_count": null,
      "id": "08f2c832-f9f0-4734-afe7-46226702954a",
      "metadata": {
        "id": "08f2c832-f9f0-4734-afe7-46226702954a"
      },
      "outputs": [],
      "source": [
        "data=pd.read_csv(\"mtcars.csv\")"
      ]
    },
    {
      "cell_type": "code",
      "execution_count": null,
      "id": "ab694355-fb7c-466f-a172-1a4057179afa",
      "metadata": {
        "id": "ab694355-fb7c-466f-a172-1a4057179afa",
        "outputId": "7ab0298f-e6ce-4b20-c636-c4382c183698"
      },
      "outputs": [
        {
          "name": "stdout",
          "output_type": "stream",
          "text": [
            "<class 'pandas.core.frame.DataFrame'>\n",
            "Index: 17 entries, 0 to 30\n",
            "Data columns (total 12 columns):\n",
            " #   Column   Non-Null Count  Dtype  \n",
            "---  ------   --------------  -----  \n",
            " 0   vehicle  17 non-null     object \n",
            " 1   mpg      17 non-null     float64\n",
            " 2   cyl      17 non-null     int64  \n",
            " 3   disp     17 non-null     float64\n",
            " 4   hp       17 non-null     int64  \n",
            " 5   drat     17 non-null     float64\n",
            " 6   wt       17 non-null     float64\n",
            " 7   qsec     17 non-null     float64\n",
            " 8   vs       17 non-null     int64  \n",
            " 9   am       17 non-null     int64  \n",
            " 10  gear     17 non-null     int64  \n",
            " 11  carb     17 non-null     int64  \n",
            "dtypes: float64(5), int64(6), object(1)\n",
            "memory usage: 1.7+ KB\n"
          ]
        }
      ],
      "source": [
        "df=data.loc[data['qsec']<stat.mean(data['qsec']),:]\n",
        "df\n",
        "df.info()"
      ]
    },
    {
      "cell_type": "code",
      "execution_count": null,
      "id": "bd4511c1-0899-451c-8c3d-e0fc8a47af47",
      "metadata": {
        "scrolled": true,
        "id": "bd4511c1-0899-451c-8c3d-e0fc8a47af47",
        "outputId": "b043923b-32c0-4e59-b9b0-9804efeba025"
      },
      "outputs": [
        {
          "name": "stdout",
          "output_type": "stream",
          "text": [
            "<class 'pandas.core.frame.DataFrame'>\n",
            "Index: 15 entries, 0 to 30\n",
            "Data columns (total 12 columns):\n",
            " #   Column   Non-Null Count  Dtype  \n",
            "---  ------   --------------  -----  \n",
            " 0   vehicle  15 non-null     object \n",
            " 1   mpg      15 non-null     float64\n",
            " 2   cyl      15 non-null     int64  \n",
            " 3   disp     15 non-null     float64\n",
            " 4   hp       15 non-null     int64  \n",
            " 5   drat     15 non-null     float64\n",
            " 6   wt       15 non-null     float64\n",
            " 7   qsec     15 non-null     float64\n",
            " 8   vs       15 non-null     int64  \n",
            " 9   am       15 non-null     int64  \n",
            " 10  gear     15 non-null     int64  \n",
            " 11  carb     15 non-null     int64  \n",
            "dtypes: float64(5), int64(6), object(1)\n",
            "memory usage: 1.5+ KB\n"
          ]
        }
      ],
      "source": [
        "df1=df.loc[(df['cyl']==6) | (df['cyl']==8),:]\n",
        "df1\n",
        "df1.info()"
      ]
    },
    {
      "cell_type": "code",
      "execution_count": null,
      "id": "b98b82b0-3f2d-4dae-9c36-fd6f30cf4dc2",
      "metadata": {
        "id": "b98b82b0-3f2d-4dae-9c36-fd6f30cf4dc2",
        "outputId": "fc60f405-f300-4e97-f9f8-e4db0545b1af"
      },
      "outputs": [
        {
          "data": {
            "text/plain": [
              "88.23529411764706"
            ]
          },
          "execution_count": 1,
          "metadata": {},
          "output_type": "execute_result"
        }
      ],
      "source": [
        "percentage=(15/17)*100\n",
        "\n",
        "percentage"
      ]
    },
    {
      "cell_type": "code",
      "execution_count": null,
      "id": "cca54e94-991d-4b8d-8f7b-fe5354e2644e",
      "metadata": {
        "id": "cca54e94-991d-4b8d-8f7b-fe5354e2644e"
      },
      "outputs": [],
      "source": []
    }
  ],
  "metadata": {
    "kernelspec": {
      "display_name": "Python 3 (ipykernel)",
      "language": "python",
      "name": "python3"
    },
    "language_info": {
      "codemirror_mode": {
        "name": "ipython",
        "version": 3
      },
      "file_extension": ".py",
      "mimetype": "text/x-python",
      "name": "python",
      "nbconvert_exporter": "python",
      "pygments_lexer": "ipython3",
      "version": "3.12.4"
    },
    "colab": {
      "provenance": [],
      "include_colab_link": true
    }
  },
  "nbformat": 4,
  "nbformat_minor": 5
}